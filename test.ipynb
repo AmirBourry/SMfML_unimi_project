{
 "cells": [
  {
   "cell_type": "code",
   "execution_count": 1,
   "id": "initial_id",
   "metadata": {
    "is_executing": true
   },
   "outputs": [],
   "source": [
    "import numpy as np\n",
    "from sklearn import datasets\n",
    "from sklearn.datasets import make_blobs\n",
    "from sklearn.model_selection import train_test_split\n",
    "\n",
    "from decision_tree import DecisionTree\n",
    "from random_forest_classifier import RandomForestClassifier"
   ]
  },
  {
   "cell_type": "code",
   "execution_count": 2,
   "id": "1b87e17ab5bb64f3",
   "metadata": {
    "ExecuteTime": {
     "end_time": "2024-06-16T21:37:42.303424Z",
     "start_time": "2024-06-16T21:37:42.297205Z"
    }
   },
   "outputs": [],
   "source": [
    "# Generation of a synthetic data set \n",
    "X, y = make_blobs(n_samples=1000, centers=3, n_features=5, random_state=42)\n",
    "\n",
    "# Division in a training and test set\n",
    "X_train, X_test, y_train, y_test = train_test_split(X, y, test_size=0.2, random_state=42)"
   ]
  },
  {
   "cell_type": "code",
   "execution_count": 3,
   "id": "f4ecc896cc13e7d1",
   "metadata": {
    "ExecuteTime": {
     "end_time": "2024-06-16T21:37:42.350850Z",
     "start_time": "2024-06-16T21:37:42.304402Z"
    }
   },
   "outputs": [
    {
     "name": "stdout",
     "output_type": "stream",
     "text": [
      "Accuracy of Decision Tree: 0.99\n"
     ]
    }
   ],
   "source": [
    "# Training and performance measure of a simple decision tree \n",
    "dt_model = DecisionTree(max_depth=5, min_samples_leaf=10)\n",
    "dt_model.fit(X_train, y_train)\n",
    "dt_accuracy = dt_model.score(X_test, y_test)\n",
    "print(f\"Accuracy of Decision Tree: {dt_accuracy:.2f}\")"
   ]
  },
  {
   "cell_type": "code",
   "execution_count": 4,
   "id": "6ccc8bce639b79c1",
   "metadata": {
    "ExecuteTime": {
     "end_time": "2024-06-16T21:37:44.826622Z",
     "start_time": "2024-06-16T21:37:42.351859Z"
    }
   },
   "outputs": [
    {
     "name": "stdout",
     "output_type": "stream",
     "text": [
      "Accuracy of Random Forest: 0.99\n"
     ]
    }
   ],
   "source": [
    "# Training and performance measure of a Random Forest Classifier\n",
    "rd_model = RandomForestClassifier(n_trees=100, max_depth=5, min_samples_leaf=10)\n",
    "rd_model.fit(X_train, y_train)\n",
    "rd_accuracy = rd_model.score(X_test, y_test)\n",
    "print(f\"Accuracy of Random Forest: {rd_accuracy:.2f}\")"
   ]
  },
  {
   "cell_type": "markdown",
   "id": "68e763116dbb1a50",
   "metadata": {},
   "source": [
    "# Mushroom dataset"
   ]
  },
  {
   "cell_type": "code",
   "execution_count": 5,
   "id": "1eef86c9d250f198",
   "metadata": {
    "ExecuteTime": {
     "end_time": "2024-06-16T21:37:46.608179Z",
     "start_time": "2024-06-16T21:37:44.828551Z"
    }
   },
   "outputs": [
    {
     "name": "stdout",
     "output_type": "stream",
     "text": [
      "Requirement already satisfied: ucimlrepo in c:\\users\\amirb\\anaconda3\\lib\\site-packages (0.0.7)\n",
      "Requirement already satisfied: pandas>=1.0.0 in c:\\users\\amirb\\anaconda3\\lib\\site-packages (from ucimlrepo) (1.5.3)\n",
      "Requirement already satisfied: certifi>=2020.12.5 in c:\\users\\amirb\\anaconda3\\lib\\site-packages (from ucimlrepo) (2023.7.22)\n",
      "Requirement already satisfied: python-dateutil>=2.8.1 in c:\\users\\amirb\\appdata\\roaming\\python\\python311\\site-packages (from pandas>=1.0.0->ucimlrepo) (2.8.2)\n",
      "Requirement already satisfied: pytz>=2020.1 in c:\\users\\amirb\\anaconda3\\lib\\site-packages (from pandas>=1.0.0->ucimlrepo) (2022.7)\n",
      "Requirement already satisfied: numpy>=1.21.0 in c:\\users\\amirb\\anaconda3\\lib\\site-packages (from pandas>=1.0.0->ucimlrepo) (1.24.3)\n",
      "Requirement already satisfied: six>=1.5 in c:\\users\\amirb\\appdata\\roaming\\python\\python311\\site-packages (from python-dateutil>=2.8.1->pandas>=1.0.0->ucimlrepo) (1.16.0)\n"
     ]
    }
   ],
   "source": [
    "# required libraries\n",
    "!pip install ucimlrepo"
   ]
  },
  {
   "cell_type": "code",
   "execution_count": 6,
   "id": "6315bd144cf62573",
   "metadata": {
    "ExecuteTime": {
     "end_time": "2024-06-16T21:37:46.623677Z",
     "start_time": "2024-06-16T21:37:46.609178Z"
    }
   },
   "outputs": [],
   "source": [
    "from ucimlrepo import fetch_ucirepo \n"
   ]
  },
  {
   "cell_type": "code",
   "execution_count": 7,
   "id": "8fed906db62cf560",
   "metadata": {
    "ExecuteTime": {
     "end_time": "2024-06-16T21:37:46.639699Z",
     "start_time": "2024-06-16T21:37:46.624677Z"
    }
   },
   "outputs": [],
   "source": [
    "X_train, X_test, y_train, y_test = train_test_split(X, y, test_size=0.2, random_state=42)"
   ]
  },
  {
   "cell_type": "code",
   "execution_count": 8,
   "id": "9de69358bacb75dd",
   "metadata": {
    "ExecuteTime": {
     "end_time": "2024-06-16T21:37:46.655675Z",
     "start_time": "2024-06-16T21:37:46.640677Z"
    }
   },
   "outputs": [
    {
     "name": "stdout",
     "output_type": "stream",
     "text": [
      "(800, 5) (200, 5) (800,) (200,)\n"
     ]
    }
   ],
   "source": [
    "print(X_train.shape, X_test.shape, y_train.shape, y_test.shape)"
   ]
  },
  {
   "cell_type": "code",
   "execution_count": 9,
   "id": "8b842df1ba59a329",
   "metadata": {
    "ExecuteTime": {
     "end_time": "2024-06-16T21:37:48.067656Z",
     "start_time": "2024-06-16T21:37:46.657675Z"
    }
   },
   "outputs": [
    {
     "name": "stdout",
     "output_type": "stream",
     "text": [
      "45\n",
      "303\n",
      "This database contains 76 attributes, but all published experiments refer to using a subset of 14 of them.  In particular, the Cleveland database is the only one that has been used by ML researchers to date.  The \"goal\" field refers to the presence of heart disease in the patient.  It is integer valued from 0 (no presence) to 4. Experiments with the Cleveland database have concentrated on simply attempting to distinguish presence (values 1,2,3,4) from absence (value 0).  \n",
      "   \n",
      "The names and social security numbers of the patients were recently removed from the database, replaced with dummy values.\n",
      "\n",
      "One file has been \"processed\", that one containing the Cleveland database.  All four unprocessed files also exist in this directory.\n",
      "\n",
      "To see Test Costs (donated by Peter Turney), please see the folder \"Costs\" \n",
      "        name     role         type demographic  \\\n",
      "0        age  Feature      Integer         Age   \n",
      "1        sex  Feature  Categorical         Sex   \n",
      "2         cp  Feature  Categorical        None   \n",
      "3   trestbps  Feature      Integer        None   \n",
      "4       chol  Feature      Integer        None   \n",
      "5        fbs  Feature  Categorical        None   \n",
      "6    restecg  Feature  Categorical        None   \n",
      "7    thalach  Feature      Integer        None   \n",
      "8      exang  Feature  Categorical        None   \n",
      "9    oldpeak  Feature      Integer        None   \n",
      "10     slope  Feature  Categorical        None   \n",
      "11        ca  Feature      Integer        None   \n",
      "12      thal  Feature  Categorical        None   \n",
      "13       num   Target      Integer        None   \n",
      "\n",
      "                                          description  units missing_values  \n",
      "0                                                None  years             no  \n",
      "1                                                None   None             no  \n",
      "2                                                None   None             no  \n",
      "3   resting blood pressure (on admission to the ho...  mm Hg             no  \n",
      "4                                   serum cholestoral  mg/dl             no  \n",
      "5                     fasting blood sugar > 120 mg/dl   None             no  \n",
      "6                                                None   None             no  \n",
      "7                         maximum heart rate achieved   None             no  \n",
      "8                             exercise induced angina   None             no  \n",
      "9   ST depression induced by exercise relative to ...   None             no  \n",
      "10                                               None   None             no  \n",
      "11  number of major vessels (0-3) colored by flour...   None            yes  \n",
      "12                                               None   None            yes  \n",
      "13                         diagnosis of heart disease   None             no  \n"
     ]
    }
   ],
   "source": [
    "# import dataset\n",
    "heart_disease = fetch_ucirepo(id=45)\n",
    "# alternatively: fetch_ucirepo(name='Heart Disease')\n",
    "\n",
    "# access data\n",
    "X = heart_disease.data.features\n",
    "y = heart_disease.data.targets\n",
    "# train model e.g. sklearn.linear_model.LinearRegression().fit(X, y)\n",
    "\n",
    "# access metadata\n",
    "print(heart_disease.metadata.uci_id)\n",
    "print(heart_disease.metadata.num_instances)\n",
    "print(heart_disease.metadata.additional_info.summary)\n",
    "\n",
    "# access variable info in tabular format\n",
    "print(heart_disease.variables)"
   ]
  },
  {
   "cell_type": "code",
   "execution_count": 10,
   "id": "592bfca196eadc4a",
   "metadata": {
    "ExecuteTime": {
     "end_time": "2024-06-16T21:37:48.114291Z",
     "start_time": "2024-06-16T21:37:48.070654Z"
    }
   },
   "outputs": [
    {
     "name": "stdout",
     "output_type": "stream",
     "text": [
      "Accuracy of Decision Tree: 0.99\n"
     ]
    }
   ],
   "source": [
    "# Training and performance measure of a simple decision tree \n",
    "mushroom_decision_tree = DecisionTree(max_depth=5, min_samples_leaf=10)\n",
    "mushroom_decision_tree.fit(X_train, y_train)\n",
    "mushroom_decision_tree_accuracy = mushroom_decision_tree.score(X_test, y_test)\n",
    "print(f\"Accuracy of Decision Tree: {mushroom_decision_tree_accuracy:.2f}\")"
   ]
  },
  {
   "cell_type": "code",
   "execution_count": 11,
   "id": "1b5ac1810fb39a7f",
   "metadata": {
    "ExecuteTime": {
     "end_time": "2024-06-16T21:37:50.452866Z",
     "start_time": "2024-06-16T21:37:48.118286Z"
    }
   },
   "outputs": [
    {
     "name": "stdout",
     "output_type": "stream",
     "text": [
      "Accuracy of Random Forest: 0.99\n"
     ]
    }
   ],
   "source": [
    "# Training and performance measure of a Random Forest Classifier\n",
    "mushroom_random_forest = RandomForestClassifier(n_trees=100, max_depth=5, min_samples_leaf=10)\n",
    "mushroom_random_forest.fit(X_train, y_train)\n",
    "mushroom_random_forest_accuracy = mushroom_random_forest.score(X_test, y_test)\n",
    "print(f\"Accuracy of Random Forest: {mushroom_random_forest_accuracy:.2f}\")"
   ]
  },
  {
   "cell_type": "code",
   "execution_count": null,
   "id": "3480de3a",
   "metadata": {},
   "outputs": [],
   "source": []
  },
  {
   "cell_type": "code",
   "execution_count": null,
   "id": "d5d6b959",
   "metadata": {},
   "outputs": [],
   "source": []
  }
 ],
 "metadata": {
  "kernelspec": {
   "display_name": "Python 3 (ipykernel)",
   "language": "python",
   "name": "python3"
  },
  "language_info": {
   "codemirror_mode": {
    "name": "ipython",
    "version": 3
   },
   "file_extension": ".py",
   "mimetype": "text/x-python",
   "name": "python",
   "nbconvert_exporter": "python",
   "pygments_lexer": "ipython3",
   "version": "3.11.4"
  }
 },
 "nbformat": 4,
 "nbformat_minor": 5
}
